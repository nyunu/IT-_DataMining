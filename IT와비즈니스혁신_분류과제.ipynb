{
  "nbformat": 4,
  "nbformat_minor": 0,
  "metadata": {
    "colab": {
      "provenance": [],
      "authorship_tag": "ABX9TyPlMhvOdCGs/AtZ/niA+HIy",
      "include_colab_link": true
    },
    "kernelspec": {
      "name": "python3",
      "display_name": "Python 3"
    },
    "language_info": {
      "name": "python"
    }
  },
  "cells": [
    {
      "cell_type": "markdown",
      "metadata": {
        "id": "view-in-github",
        "colab_type": "text"
      },
      "source": [
        "<a href=\"https://colab.research.google.com/github/nyunu/IT_DataMining/blob/main/IT%EC%99%80%EB%B9%84%EC%A6%88%EB%8B%88%EC%8A%A4%ED%98%81%EC%8B%A0_%EB%B6%84%EB%A5%98%EA%B3%BC%EC%A0%9C.ipynb\" target=\"_parent\"><img src=\"https://colab.research.google.com/assets/colab-badge.svg\" alt=\"Open In Colab\"/></a>"
      ]
    },
    {
      "cell_type": "code",
      "source": [
        "!sudo apt-get install -y fonts-nanum\n",
        "!sudo fc-cache -fv\n",
        "!rm ~/.cache/matplotlib -rf"
      ],
      "metadata": {
        "colab": {
          "base_uri": "https://localhost:8080/"
        },
        "id": "kJTwBWnWLI-C",
        "outputId": "ce35af21-94a3-440f-df0e-a69a60e8d6b0"
      },
      "execution_count": 17,
      "outputs": [
        {
          "output_type": "stream",
          "name": "stdout",
          "text": [
            "Reading package lists... Done\n",
            "Building dependency tree       \n",
            "Reading state information... Done\n",
            "The following package was automatically installed and is no longer required:\n",
            "  libnvidia-common-460\n",
            "Use 'sudo apt autoremove' to remove it.\n",
            "The following NEW packages will be installed:\n",
            "  fonts-nanum\n",
            "0 upgraded, 1 newly installed, 0 to remove and 5 not upgraded.\n",
            "Need to get 9,604 kB of archives.\n",
            "After this operation, 29.5 MB of additional disk space will be used.\n",
            "Get:1 http://archive.ubuntu.com/ubuntu bionic/universe amd64 fonts-nanum all 20170925-1 [9,604 kB]\n",
            "Fetched 9,604 kB in 1s (6,532 kB/s)\n",
            "debconf: unable to initialize frontend: Dialog\n",
            "debconf: (No usable dialog-like program is installed, so the dialog based frontend cannot be used. at /usr/share/perl5/Debconf/FrontEnd/Dialog.pm line 76, <> line 1.)\n",
            "debconf: falling back to frontend: Readline\n",
            "debconf: unable to initialize frontend: Readline\n",
            "debconf: (This frontend requires a controlling tty.)\n",
            "debconf: falling back to frontend: Teletype\n",
            "dpkg-preconfigure: unable to re-open stdin: \n",
            "Selecting previously unselected package fonts-nanum.\n",
            "(Reading database ... 123991 files and directories currently installed.)\n",
            "Preparing to unpack .../fonts-nanum_20170925-1_all.deb ...\n",
            "Unpacking fonts-nanum (20170925-1) ...\n",
            "Setting up fonts-nanum (20170925-1) ...\n",
            "Processing triggers for fontconfig (2.12.6-0ubuntu2) ...\n",
            "/usr/share/fonts: caching, new cache contents: 0 fonts, 1 dirs\n",
            "/usr/share/fonts/truetype: caching, new cache contents: 0 fonts, 3 dirs\n",
            "/usr/share/fonts/truetype/humor-sans: caching, new cache contents: 1 fonts, 0 dirs\n",
            "/usr/share/fonts/truetype/liberation: caching, new cache contents: 16 fonts, 0 dirs\n",
            "/usr/share/fonts/truetype/nanum: caching, new cache contents: 10 fonts, 0 dirs\n",
            "/usr/local/share/fonts: caching, new cache contents: 0 fonts, 0 dirs\n",
            "/root/.local/share/fonts: skipping, no such directory\n",
            "/root/.fonts: skipping, no such directory\n",
            "/var/cache/fontconfig: cleaning cache directory\n",
            "/root/.cache/fontconfig: not cleaning non-existent cache directory\n",
            "/root/.fontconfig: not cleaning non-existent cache directory\n",
            "fc-cache: succeeded\n"
          ]
        }
      ]
    },
    {
      "cell_type": "code",
      "execution_count": 1,
      "metadata": {
        "colab": {
          "base_uri": "https://localhost:8080/"
        },
        "id": "maNgnUh1kmNM",
        "outputId": "e3df9764-687b-4a05-95a6-9cd26902585b"
      },
      "outputs": [
        {
          "output_type": "stream",
          "name": "stdout",
          "text": [
            "Drive already mounted at /content/drive; to attempt to forcibly remount, call drive.mount(\"/content/drive\", force_remount=True).\n"
          ]
        }
      ],
      "source": [
        "from google.colab import drive\n",
        "drive.mount('/content/drive')"
      ]
    },
    {
      "cell_type": "code",
      "source": [
        "import matplotlib.pyplot as plt\n",
        "plt.rc('font', family='NanumBarunGothic') \n",
        "import matplotlib.font_manager as fm"
      ],
      "metadata": {
        "id": "GrOr6i-tKgq2"
      },
      "execution_count": 2,
      "outputs": []
    },
    {
      "cell_type": "code",
      "source": [
        "import pandas as pd\n",
        "import numpy as np\n",
        "from sklearn.tree import DecisionTreeClassifier\n",
        "from sklearn.model_selection import train_test_split\n",
        "from sklearn.tree import export_graphviz\n",
        "import graphviz\n",
        "from sklearn.ensemble import RandomForestClassifier\n",
        "from sklearn.model_selection import cross_val_score\n",
        "from sklearn.ensemble import GradientBoostingClassifier\n",
        "from sklearn.model_selection import StratifiedKFold\n",
        "from sklearn.model_selection import GridSearchCV\n",
        "from sklearn.metrics import accuracy_score, precision_score, recall_score, f1_score\n",
        "from sklearn.metrics import confusion_matrix \n",
        "from sklearn.metrics import classification_report\n",
        "from sklearn.metrics import roc_auc_score, roc_curve"
      ],
      "metadata": {
        "id": "vWjkZxXpqj_p"
      },
      "execution_count": 3,
      "outputs": []
    },
    {
      "cell_type": "markdown",
      "source": [
        "### 이전 과제에서 전처리한 데이터를 사용 <br>\n",
        "**전처리 과정**<br>\n",
        "1. 건강검진 결과에 영향을 주지 않는 변수 삭제 <br>\n",
        "  : '기준년도', '데이터공개일자', '가입자일련번호' 변수 삭제 <br>\n",
        "2. 결측치 처리 <br> \n",
        "  1) 구강검진 관련 변수 ('치아우식증유무', '치석') 결측치 보간\n",
        "  2) 결측치 개수가 적은 변수는 각 변수의 평균을 이용하여 결측치 보간 <br> ex) 음주여부(1), 흡연상태(2), 수축기혈압(88), 이완기혈압(88), 식전혈당(88), 혈색소(88), 혈청크레아티닌(88),(혈청지오티)AST(88), (혈청지오티)ALT(88), 감마지티피(88), 요단백(139)\n",
        "  3) 콜레스테롤 관련 변수 삭제 "
      ],
      "metadata": {
        "id": "JI7xjXruoVCx"
      }
    },
    {
      "cell_type": "code",
      "source": [
        "df_health = pd.read_csv(\"/content/drive/MyDrive/health.csv\")\n",
        "df_health.drop('Unnamed: 0', axis = 1, inplace = True)\n",
        "df_health.head()"
      ],
      "metadata": {
        "colab": {
          "base_uri": "https://localhost:8080/",
          "height": 297
        },
        "id": "Q3Vm3T0XndOo",
        "outputId": "d3ee5cdd-5f5b-4be3-cf26-96a23d72958b"
      },
      "execution_count": 4,
      "outputs": [
        {
          "output_type": "execute_result",
          "data": {
            "text/plain": [
              "   시도코드  성별코드  연령대코드(5세단위)  신장(5Cm단위)  체중(5Kg 단위)  허리둘레  시력(좌)  시력(우)  청력(좌)  \\\n",
              "0    36     0            9        165          60  72.1    1.2    1.5      1   \n",
              "1    31     0           13        160          70  90.8    1.0    1.0      1   \n",
              "2    27     0            9        185          85  94.0    1.2    1.2      1   \n",
              "3    44     0            9        165          80  93.0    0.8    0.7      1   \n",
              "4    41     0           13        160          65  92.0    0.5    0.5      1   \n",
              "\n",
              "   청력(우)  ...  흡연상태  음주여부  구강검진수검여부  치아우식증유무   치석  혈청크레아티닌_정상여부  \\\n",
              "0      1  ...     0     0         0      2.0  2.0             1   \n",
              "1      2  ...     0     0         1      0.0  0.0             1   \n",
              "2      1  ...     1     1         0      2.0  2.0             1   \n",
              "3      2  ...     1     1         1      0.0  1.0             0   \n",
              "4      1  ...     1     0         1      0.0  2.0             1   \n",
              "\n",
              "   (혈청지오티)AST_정상여부  (혈청지오티)ALT_정상여부  감마지티피_정상여부  심정지 질환 위험군  \n",
              "0                1                1           1           0  \n",
              "1                0                0           0           1  \n",
              "2                1                1           1           0  \n",
              "3                1                1           1           0  \n",
              "4                1                1           1           1  \n",
              "\n",
              "[5 rows x 29 columns]"
            ],
            "text/html": [
              "\n",
              "  <div id=\"df-3fca1a2f-e48e-4640-8e5c-1cf36809a0c4\">\n",
              "    <div class=\"colab-df-container\">\n",
              "      <div>\n",
              "<style scoped>\n",
              "    .dataframe tbody tr th:only-of-type {\n",
              "        vertical-align: middle;\n",
              "    }\n",
              "\n",
              "    .dataframe tbody tr th {\n",
              "        vertical-align: top;\n",
              "    }\n",
              "\n",
              "    .dataframe thead th {\n",
              "        text-align: right;\n",
              "    }\n",
              "</style>\n",
              "<table border=\"1\" class=\"dataframe\">\n",
              "  <thead>\n",
              "    <tr style=\"text-align: right;\">\n",
              "      <th></th>\n",
              "      <th>시도코드</th>\n",
              "      <th>성별코드</th>\n",
              "      <th>연령대코드(5세단위)</th>\n",
              "      <th>신장(5Cm단위)</th>\n",
              "      <th>체중(5Kg 단위)</th>\n",
              "      <th>허리둘레</th>\n",
              "      <th>시력(좌)</th>\n",
              "      <th>시력(우)</th>\n",
              "      <th>청력(좌)</th>\n",
              "      <th>청력(우)</th>\n",
              "      <th>...</th>\n",
              "      <th>흡연상태</th>\n",
              "      <th>음주여부</th>\n",
              "      <th>구강검진수검여부</th>\n",
              "      <th>치아우식증유무</th>\n",
              "      <th>치석</th>\n",
              "      <th>혈청크레아티닌_정상여부</th>\n",
              "      <th>(혈청지오티)AST_정상여부</th>\n",
              "      <th>(혈청지오티)ALT_정상여부</th>\n",
              "      <th>감마지티피_정상여부</th>\n",
              "      <th>심정지 질환 위험군</th>\n",
              "    </tr>\n",
              "  </thead>\n",
              "  <tbody>\n",
              "    <tr>\n",
              "      <th>0</th>\n",
              "      <td>36</td>\n",
              "      <td>0</td>\n",
              "      <td>9</td>\n",
              "      <td>165</td>\n",
              "      <td>60</td>\n",
              "      <td>72.1</td>\n",
              "      <td>1.2</td>\n",
              "      <td>1.5</td>\n",
              "      <td>1</td>\n",
              "      <td>1</td>\n",
              "      <td>...</td>\n",
              "      <td>0</td>\n",
              "      <td>0</td>\n",
              "      <td>0</td>\n",
              "      <td>2.0</td>\n",
              "      <td>2.0</td>\n",
              "      <td>1</td>\n",
              "      <td>1</td>\n",
              "      <td>1</td>\n",
              "      <td>1</td>\n",
              "      <td>0</td>\n",
              "    </tr>\n",
              "    <tr>\n",
              "      <th>1</th>\n",
              "      <td>31</td>\n",
              "      <td>0</td>\n",
              "      <td>13</td>\n",
              "      <td>160</td>\n",
              "      <td>70</td>\n",
              "      <td>90.8</td>\n",
              "      <td>1.0</td>\n",
              "      <td>1.0</td>\n",
              "      <td>1</td>\n",
              "      <td>2</td>\n",
              "      <td>...</td>\n",
              "      <td>0</td>\n",
              "      <td>0</td>\n",
              "      <td>1</td>\n",
              "      <td>0.0</td>\n",
              "      <td>0.0</td>\n",
              "      <td>1</td>\n",
              "      <td>0</td>\n",
              "      <td>0</td>\n",
              "      <td>0</td>\n",
              "      <td>1</td>\n",
              "    </tr>\n",
              "    <tr>\n",
              "      <th>2</th>\n",
              "      <td>27</td>\n",
              "      <td>0</td>\n",
              "      <td>9</td>\n",
              "      <td>185</td>\n",
              "      <td>85</td>\n",
              "      <td>94.0</td>\n",
              "      <td>1.2</td>\n",
              "      <td>1.2</td>\n",
              "      <td>1</td>\n",
              "      <td>1</td>\n",
              "      <td>...</td>\n",
              "      <td>1</td>\n",
              "      <td>1</td>\n",
              "      <td>0</td>\n",
              "      <td>2.0</td>\n",
              "      <td>2.0</td>\n",
              "      <td>1</td>\n",
              "      <td>1</td>\n",
              "      <td>1</td>\n",
              "      <td>1</td>\n",
              "      <td>0</td>\n",
              "    </tr>\n",
              "    <tr>\n",
              "      <th>3</th>\n",
              "      <td>44</td>\n",
              "      <td>0</td>\n",
              "      <td>9</td>\n",
              "      <td>165</td>\n",
              "      <td>80</td>\n",
              "      <td>93.0</td>\n",
              "      <td>0.8</td>\n",
              "      <td>0.7</td>\n",
              "      <td>1</td>\n",
              "      <td>2</td>\n",
              "      <td>...</td>\n",
              "      <td>1</td>\n",
              "      <td>1</td>\n",
              "      <td>1</td>\n",
              "      <td>0.0</td>\n",
              "      <td>1.0</td>\n",
              "      <td>0</td>\n",
              "      <td>1</td>\n",
              "      <td>1</td>\n",
              "      <td>1</td>\n",
              "      <td>0</td>\n",
              "    </tr>\n",
              "    <tr>\n",
              "      <th>4</th>\n",
              "      <td>41</td>\n",
              "      <td>0</td>\n",
              "      <td>13</td>\n",
              "      <td>160</td>\n",
              "      <td>65</td>\n",
              "      <td>92.0</td>\n",
              "      <td>0.5</td>\n",
              "      <td>0.5</td>\n",
              "      <td>1</td>\n",
              "      <td>1</td>\n",
              "      <td>...</td>\n",
              "      <td>1</td>\n",
              "      <td>0</td>\n",
              "      <td>1</td>\n",
              "      <td>0.0</td>\n",
              "      <td>2.0</td>\n",
              "      <td>1</td>\n",
              "      <td>1</td>\n",
              "      <td>1</td>\n",
              "      <td>1</td>\n",
              "      <td>1</td>\n",
              "    </tr>\n",
              "  </tbody>\n",
              "</table>\n",
              "<p>5 rows × 29 columns</p>\n",
              "</div>\n",
              "      <button class=\"colab-df-convert\" onclick=\"convertToInteractive('df-3fca1a2f-e48e-4640-8e5c-1cf36809a0c4')\"\n",
              "              title=\"Convert this dataframe to an interactive table.\"\n",
              "              style=\"display:none;\">\n",
              "        \n",
              "  <svg xmlns=\"http://www.w3.org/2000/svg\" height=\"24px\"viewBox=\"0 0 24 24\"\n",
              "       width=\"24px\">\n",
              "    <path d=\"M0 0h24v24H0V0z\" fill=\"none\"/>\n",
              "    <path d=\"M18.56 5.44l.94 2.06.94-2.06 2.06-.94-2.06-.94-.94-2.06-.94 2.06-2.06.94zm-11 1L8.5 8.5l.94-2.06 2.06-.94-2.06-.94L8.5 2.5l-.94 2.06-2.06.94zm10 10l.94 2.06.94-2.06 2.06-.94-2.06-.94-.94-2.06-.94 2.06-2.06.94z\"/><path d=\"M17.41 7.96l-1.37-1.37c-.4-.4-.92-.59-1.43-.59-.52 0-1.04.2-1.43.59L10.3 9.45l-7.72 7.72c-.78.78-.78 2.05 0 2.83L4 21.41c.39.39.9.59 1.41.59.51 0 1.02-.2 1.41-.59l7.78-7.78 2.81-2.81c.8-.78.8-2.07 0-2.86zM5.41 20L4 18.59l7.72-7.72 1.47 1.35L5.41 20z\"/>\n",
              "  </svg>\n",
              "      </button>\n",
              "      \n",
              "  <style>\n",
              "    .colab-df-container {\n",
              "      display:flex;\n",
              "      flex-wrap:wrap;\n",
              "      gap: 12px;\n",
              "    }\n",
              "\n",
              "    .colab-df-convert {\n",
              "      background-color: #E8F0FE;\n",
              "      border: none;\n",
              "      border-radius: 50%;\n",
              "      cursor: pointer;\n",
              "      display: none;\n",
              "      fill: #1967D2;\n",
              "      height: 32px;\n",
              "      padding: 0 0 0 0;\n",
              "      width: 32px;\n",
              "    }\n",
              "\n",
              "    .colab-df-convert:hover {\n",
              "      background-color: #E2EBFA;\n",
              "      box-shadow: 0px 1px 2px rgba(60, 64, 67, 0.3), 0px 1px 3px 1px rgba(60, 64, 67, 0.15);\n",
              "      fill: #174EA6;\n",
              "    }\n",
              "\n",
              "    [theme=dark] .colab-df-convert {\n",
              "      background-color: #3B4455;\n",
              "      fill: #D2E3FC;\n",
              "    }\n",
              "\n",
              "    [theme=dark] .colab-df-convert:hover {\n",
              "      background-color: #434B5C;\n",
              "      box-shadow: 0px 1px 3px 1px rgba(0, 0, 0, 0.15);\n",
              "      filter: drop-shadow(0px 1px 2px rgba(0, 0, 0, 0.3));\n",
              "      fill: #FFFFFF;\n",
              "    }\n",
              "  </style>\n",
              "\n",
              "      <script>\n",
              "        const buttonEl =\n",
              "          document.querySelector('#df-3fca1a2f-e48e-4640-8e5c-1cf36809a0c4 button.colab-df-convert');\n",
              "        buttonEl.style.display =\n",
              "          google.colab.kernel.accessAllowed ? 'block' : 'none';\n",
              "\n",
              "        async function convertToInteractive(key) {\n",
              "          const element = document.querySelector('#df-3fca1a2f-e48e-4640-8e5c-1cf36809a0c4');\n",
              "          const dataTable =\n",
              "            await google.colab.kernel.invokeFunction('convertToInteractive',\n",
              "                                                     [key], {});\n",
              "          if (!dataTable) return;\n",
              "\n",
              "          const docLinkHtml = 'Like what you see? Visit the ' +\n",
              "            '<a target=\"_blank\" href=https://colab.research.google.com/notebooks/data_table.ipynb>data table notebook</a>'\n",
              "            + ' to learn more about interactive tables.';\n",
              "          element.innerHTML = '';\n",
              "          dataTable['output_type'] = 'display_data';\n",
              "          await google.colab.output.renderOutput(dataTable, element);\n",
              "          const docLink = document.createElement('div');\n",
              "          docLink.innerHTML = docLinkHtml;\n",
              "          element.appendChild(docLink);\n",
              "        }\n",
              "      </script>\n",
              "    </div>\n",
              "  </div>\n",
              "  "
            ]
          },
          "metadata": {},
          "execution_count": 4
        }
      ]
    },
    {
      "cell_type": "code",
      "source": [
        "df_health.columns"
      ],
      "metadata": {
        "colab": {
          "base_uri": "https://localhost:8080/"
        },
        "id": "XHKOmbAJrwqM",
        "outputId": "2140dd0d-81e9-4a7c-86d4-6b8a454a78fe"
      },
      "execution_count": 5,
      "outputs": [
        {
          "output_type": "execute_result",
          "data": {
            "text/plain": [
              "Index(['시도코드', '성별코드', '연령대코드(5세단위)', '신장(5Cm단위)', '체중(5Kg 단위)', '허리둘레',\n",
              "       '시력(좌)', '시력(우)', '청력(좌)', '청력(우)', '수축기혈압', '이완기혈압', '식전혈당(공복혈당)',\n",
              "       '혈색소', '요단백', '혈청크레아티닌', '(혈청지오티)AST', '(혈청지오티)ALT', '감마지티피', '흡연상태',\n",
              "       '음주여부', '구강검진수검여부', '치아우식증유무', '치석', '혈청크레아티닌_정상여부', '(혈청지오티)AST_정상여부',\n",
              "       '(혈청지오티)ALT_정상여부', '감마지티피_정상여부', '심정지 질환 위험군'],\n",
              "      dtype='object')"
            ]
          },
          "metadata": {},
          "execution_count": 5
        }
      ]
    },
    {
      "cell_type": "markdown",
      "source": [
        "# **주제 : 고혈압 여부 분류**\n",
        "### **고혈압의 원인** \n",
        "① 심혈관 질환의 가족력(유전) <br>\n",
        "② 흡연 <br>\n",
        "③ 고지혈증<br>\n",
        "④ 당뇨병<br>\n",
        "⑤ 60세 이후 노년층<br>\n",
        "⑥ 성별(남성과 폐경 이후 여성)<br>\n",
        "⑦ 식사성 요인 : Na, 지방 및 알코올의 과잉 섭취, K, Mg, Ca의 섭취 부족<br>\n",
        "⑧ 약물 요인 : 경구 피임약, 제산제, 항염제, 식욕억제제<br><br>\n",
        "\n",
        "### **고혈압의 원인 중 데이터 셋 내에 존재하는 변수**\n",
        "아래의 변수를 **종속변수**로 사용 <br>\n",
        "① '연령대코드(5세단위)' <br>\n",
        "② '성별코드' <br>\n",
        "③ '흡연상태' <br>\n",
        "④ '음주여부' <br><br>\n",
        "\n",
        "### **고혈압 여부 판단 기준**\n",
        "아래 중 하나 이상 만족하면 고혈압으로 판단 <br>\n",
        "① 수축기혈압 >= 135 <br>\n",
        "② 이완기 혈압 >= 95 <br><br>\n",
        "\n",
        "## **고혈압 여부 판단에 사용할 변수**\n",
        "아래의 변수를 이용하여 위의 기준에 따라 판단한 '고혈압여부'라는 새로운 파생변수를 생성하여 이를 **독립변수**로 사용<br>\n",
        "① '수축기혈압' <br>\n",
        "② '이완기 혈압' <br><br>\n",
        "\n",
        "출처) 서울아산내과 질환백과 (https://www.amc.seoul.kr/asan/healthinfo/disease/diseaseDetail.do?contentId=31322) "
      ],
      "metadata": {
        "id": "iE5QhzxAy9r-"
      }
    },
    {
      "cell_type": "markdown",
      "source": [
        "## **1. 고혈압 여부를 판단하는 파생변수 생성**\n",
        "0: 정상 <br>\n",
        "1: 고혈압 <br>"
      ],
      "metadata": {
        "id": "vMxGnnEI8PbF"
      }
    },
    {
      "cell_type": "code",
      "source": [
        "df_health['고혈압여부'] = 0"
      ],
      "metadata": {
        "id": "dZ091sVR8EFc"
      },
      "execution_count": 6,
      "outputs": []
    },
    {
      "cell_type": "code",
      "source": [
        "df_health.loc[(df_health['수축기혈압'] >= 135) | (df_health['이완기혈압'] >= 95), \"고혈압여부\"] = 1"
      ],
      "metadata": {
        "id": "KD9dhqYq6z8e"
      },
      "execution_count": 7,
      "outputs": []
    },
    {
      "cell_type": "code",
      "source": [
        "df_health['고혈압여부'].value_counts()"
      ],
      "metadata": {
        "colab": {
          "base_uri": "https://localhost:8080/"
        },
        "id": "kH5dQAK38IK_",
        "outputId": "8efd950a-0ae3-471e-a953-2d1a1f9ffe03"
      },
      "execution_count": 8,
      "outputs": [
        {
          "output_type": "execute_result",
          "data": {
            "text/plain": [
              "0    7560\n",
              "1    2440\n",
              "Name: 고혈압여부, dtype: int64"
            ]
          },
          "metadata": {},
          "execution_count": 8
        }
      ]
    },
    {
      "cell_type": "markdown",
      "source": [
        "## **2. 사용할 종속변수와 독립변수만으로 새로운 데이터셋 생성**"
      ],
      "metadata": {
        "id": "cg9wSFDx8gJU"
      }
    },
    {
      "cell_type": "markdown",
      "source": [
        "### **변수설명** <br>\n",
        "흡연상태 -> 0: 비흡연 / 1: 흡연 <br>\n",
        "음주여부 -> 0: 금주 / 1: 음주 <br>\n",
        "고혈압여부 -> 0: 정상 / 1: 고혈압 <br>\n",
        "연령대코드 -> <br> ![image.png](data:image/png;base64,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) <br>\n"
      ],
      "metadata": {
        "id": "8MjfKsIH9sqq"
      }
    },
    {
      "cell_type": "code",
      "source": [
        "df = df_health[['흡연상태', '음주여부', '연령대코드(5세단위)', '성별코드', '고혈압여부']]\n",
        "df.head()"
      ],
      "metadata": {
        "colab": {
          "base_uri": "https://localhost:8080/",
          "height": 206
        },
        "id": "5LXrJogn8o_E",
        "outputId": "f6e5136e-23e2-4e18-972b-f077e2017ba4"
      },
      "execution_count": 9,
      "outputs": [
        {
          "output_type": "execute_result",
          "data": {
            "text/plain": [
              "   흡연상태  음주여부  연령대코드(5세단위)  성별코드  고혈압여부\n",
              "0     0     0            9     0      0\n",
              "1     0     0           13     0      0\n",
              "2     1     1            9     0      0\n",
              "3     1     1            9     0      0\n",
              "4     1     0           13     0      0"
            ],
            "text/html": [
              "\n",
              "  <div id=\"df-c40c36b4-de32-4132-85f8-28dfc436b8e9\">\n",
              "    <div class=\"colab-df-container\">\n",
              "      <div>\n",
              "<style scoped>\n",
              "    .dataframe tbody tr th:only-of-type {\n",
              "        vertical-align: middle;\n",
              "    }\n",
              "\n",
              "    .dataframe tbody tr th {\n",
              "        vertical-align: top;\n",
              "    }\n",
              "\n",
              "    .dataframe thead th {\n",
              "        text-align: right;\n",
              "    }\n",
              "</style>\n",
              "<table border=\"1\" class=\"dataframe\">\n",
              "  <thead>\n",
              "    <tr style=\"text-align: right;\">\n",
              "      <th></th>\n",
              "      <th>흡연상태</th>\n",
              "      <th>음주여부</th>\n",
              "      <th>연령대코드(5세단위)</th>\n",
              "      <th>성별코드</th>\n",
              "      <th>고혈압여부</th>\n",
              "    </tr>\n",
              "  </thead>\n",
              "  <tbody>\n",
              "    <tr>\n",
              "      <th>0</th>\n",
              "      <td>0</td>\n",
              "      <td>0</td>\n",
              "      <td>9</td>\n",
              "      <td>0</td>\n",
              "      <td>0</td>\n",
              "    </tr>\n",
              "    <tr>\n",
              "      <th>1</th>\n",
              "      <td>0</td>\n",
              "      <td>0</td>\n",
              "      <td>13</td>\n",
              "      <td>0</td>\n",
              "      <td>0</td>\n",
              "    </tr>\n",
              "    <tr>\n",
              "      <th>2</th>\n",
              "      <td>1</td>\n",
              "      <td>1</td>\n",
              "      <td>9</td>\n",
              "      <td>0</td>\n",
              "      <td>0</td>\n",
              "    </tr>\n",
              "    <tr>\n",
              "      <th>3</th>\n",
              "      <td>1</td>\n",
              "      <td>1</td>\n",
              "      <td>9</td>\n",
              "      <td>0</td>\n",
              "      <td>0</td>\n",
              "    </tr>\n",
              "    <tr>\n",
              "      <th>4</th>\n",
              "      <td>1</td>\n",
              "      <td>0</td>\n",
              "      <td>13</td>\n",
              "      <td>0</td>\n",
              "      <td>0</td>\n",
              "    </tr>\n",
              "  </tbody>\n",
              "</table>\n",
              "</div>\n",
              "      <button class=\"colab-df-convert\" onclick=\"convertToInteractive('df-c40c36b4-de32-4132-85f8-28dfc436b8e9')\"\n",
              "              title=\"Convert this dataframe to an interactive table.\"\n",
              "              style=\"display:none;\">\n",
              "        \n",
              "  <svg xmlns=\"http://www.w3.org/2000/svg\" height=\"24px\"viewBox=\"0 0 24 24\"\n",
              "       width=\"24px\">\n",
              "    <path d=\"M0 0h24v24H0V0z\" fill=\"none\"/>\n",
              "    <path d=\"M18.56 5.44l.94 2.06.94-2.06 2.06-.94-2.06-.94-.94-2.06-.94 2.06-2.06.94zm-11 1L8.5 8.5l.94-2.06 2.06-.94-2.06-.94L8.5 2.5l-.94 2.06-2.06.94zm10 10l.94 2.06.94-2.06 2.06-.94-2.06-.94-.94-2.06-.94 2.06-2.06.94z\"/><path d=\"M17.41 7.96l-1.37-1.37c-.4-.4-.92-.59-1.43-.59-.52 0-1.04.2-1.43.59L10.3 9.45l-7.72 7.72c-.78.78-.78 2.05 0 2.83L4 21.41c.39.39.9.59 1.41.59.51 0 1.02-.2 1.41-.59l7.78-7.78 2.81-2.81c.8-.78.8-2.07 0-2.86zM5.41 20L4 18.59l7.72-7.72 1.47 1.35L5.41 20z\"/>\n",
              "  </svg>\n",
              "      </button>\n",
              "      \n",
              "  <style>\n",
              "    .colab-df-container {\n",
              "      display:flex;\n",
              "      flex-wrap:wrap;\n",
              "      gap: 12px;\n",
              "    }\n",
              "\n",
              "    .colab-df-convert {\n",
              "      background-color: #E8F0FE;\n",
              "      border: none;\n",
              "      border-radius: 50%;\n",
              "      cursor: pointer;\n",
              "      display: none;\n",
              "      fill: #1967D2;\n",
              "      height: 32px;\n",
              "      padding: 0 0 0 0;\n",
              "      width: 32px;\n",
              "    }\n",
              "\n",
              "    .colab-df-convert:hover {\n",
              "      background-color: #E2EBFA;\n",
              "      box-shadow: 0px 1px 2px rgba(60, 64, 67, 0.3), 0px 1px 3px 1px rgba(60, 64, 67, 0.15);\n",
              "      fill: #174EA6;\n",
              "    }\n",
              "\n",
              "    [theme=dark] .colab-df-convert {\n",
              "      background-color: #3B4455;\n",
              "      fill: #D2E3FC;\n",
              "    }\n",
              "\n",
              "    [theme=dark] .colab-df-convert:hover {\n",
              "      background-color: #434B5C;\n",
              "      box-shadow: 0px 1px 3px 1px rgba(0, 0, 0, 0.15);\n",
              "      filter: drop-shadow(0px 1px 2px rgba(0, 0, 0, 0.3));\n",
              "      fill: #FFFFFF;\n",
              "    }\n",
              "  </style>\n",
              "\n",
              "      <script>\n",
              "        const buttonEl =\n",
              "          document.querySelector('#df-c40c36b4-de32-4132-85f8-28dfc436b8e9 button.colab-df-convert');\n",
              "        buttonEl.style.display =\n",
              "          google.colab.kernel.accessAllowed ? 'block' : 'none';\n",
              "\n",
              "        async function convertToInteractive(key) {\n",
              "          const element = document.querySelector('#df-c40c36b4-de32-4132-85f8-28dfc436b8e9');\n",
              "          const dataTable =\n",
              "            await google.colab.kernel.invokeFunction('convertToInteractive',\n",
              "                                                     [key], {});\n",
              "          if (!dataTable) return;\n",
              "\n",
              "          const docLinkHtml = 'Like what you see? Visit the ' +\n",
              "            '<a target=\"_blank\" href=https://colab.research.google.com/notebooks/data_table.ipynb>data table notebook</a>'\n",
              "            + ' to learn more about interactive tables.';\n",
              "          element.innerHTML = '';\n",
              "          dataTable['output_type'] = 'display_data';\n",
              "          await google.colab.output.renderOutput(dataTable, element);\n",
              "          const docLink = document.createElement('div');\n",
              "          docLink.innerHTML = docLinkHtml;\n",
              "          element.appendChild(docLink);\n",
              "        }\n",
              "      </script>\n",
              "    </div>\n",
              "  </div>\n",
              "  "
            ]
          },
          "metadata": {},
          "execution_count": 9
        }
      ]
    },
    {
      "cell_type": "markdown",
      "source": [
        "## **3. 모델링 및 성능 평가**"
      ],
      "metadata": {
        "id": "w945uNmaA7Ne"
      }
    },
    {
      "cell_type": "code",
      "source": [
        "X = df.iloc[:, :4]\n",
        "y = df.iloc[:, 4]\n",
        "\n",
        "X_train, X_test, y_train, y_test = train_test_split(X, y, test_size = 0.25, random_state=42)"
      ],
      "metadata": {
        "id": "yXetkotRBv5G"
      },
      "execution_count": 10,
      "outputs": []
    },
    {
      "cell_type": "markdown",
      "source": [
        "* DecisionTreeClassifier, RandomForestClassifier, GradientBoostingClassifier 세 가지 모델을 사용\n",
        "* 평가지표로는 교차 검증 결과(정확도)의 평균값 사용"
      ],
      "metadata": {
        "id": "XnHA0uB8HXMB"
      }
    },
    {
      "cell_type": "code",
      "source": [
        "kf = StratifiedKFold(n_splits=10)\n",
        "\n",
        "tree = DecisionTreeClassifier()\n",
        "forest = RandomForestClassifier()\n",
        "gbrt = GradientBoostingClassifier()\n",
        "\n",
        "dt_scores = cross_val_score(tree, X_train, y_train, cv=kf, scoring='accuracy')  \n",
        "rf_scores = cross_val_score(forest, X_train, y_train, cv=kf, scoring='accuracy')\n",
        "gbrt_scores = cross_val_score(gbrt, X_train, y_train, cv=kf, scoring='accuracy')\n",
        "\n",
        "print(\"Decision tree :{:.3f}\".format(dt_scores.mean())) \n",
        "print(\"Random forest :{:.3f}\".format(rf_scores.mean())) \n",
        "print(\"Gradient boosting :{:.3f}\".format(gbrt_scores.mean())) "
      ],
      "metadata": {
        "colab": {
          "base_uri": "https://localhost:8080/"
        },
        "id": "AdupfaRiJsPU",
        "outputId": "079244b8-74a8-4a7a-ad65-c8dbaf7f1cd8"
      },
      "execution_count": 45,
      "outputs": [
        {
          "output_type": "stream",
          "name": "stdout",
          "text": [
            "Decision tree :0.754\n",
            "Random forest :0.754\n",
            "Gradient boosting :0.757\n"
          ]
        }
      ]
    },
    {
      "cell_type": "markdown",
      "source": [
        "GradientBoostingClassifier의 정확도가 가장 높은 것을 근거로 해당 모델을 최종 모델로 채택하고 모델링 진행"
      ],
      "metadata": {
        "id": "3R5Cd0FBSg7I"
      }
    },
    {
      "cell_type": "code",
      "source": [
        "parameters = {'max_depth':[1,2,3], 'learning_rate':[0.1,0.08, 0.06, 0.04, 0.02]}\n",
        "init_gbrt = GradientBoostingClassifier(random_state=0)\n",
        "grid_gbrt = GridSearchCV(init_gbrt, param_grid=parameters, cv=3, refit=True)\n",
        "grid_gbrt.fit(X_train, y_train)\n",
        "print('GridSearchCV 최적 파라미터:', grid_gbrt.best_params_)\n",
        "print('GridSearchCV 최고 정확도: {0:.4f}'.format(grid_gbrt.best_score_))\n",
        "print(\"시험용 데이터 세트 정확도: {:.3f}\".format(grid_gbrt.score(X_test, y_test)))"
      ],
      "metadata": {
        "colab": {
          "base_uri": "https://localhost:8080/"
        },
        "id": "TVxjlGwNTOD2",
        "outputId": "a2fb40cc-fe1a-42bb-b71d-166521693546"
      },
      "execution_count": 46,
      "outputs": [
        {
          "output_type": "stream",
          "name": "stdout",
          "text": [
            "GridSearchCV 최적 파라미터: {'learning_rate': 0.1, 'max_depth': 1}\n",
            "GridSearchCV 최고 정확도: 0.7575\n",
            "시험용 데이터 세트 정확도: 0.752\n"
          ]
        }
      ]
    },
    {
      "cell_type": "markdown",
      "source": [
        "최종 Accuracy<br>\n",
        "* train data = 0.7575\n",
        "* test data = 0.752"
      ],
      "metadata": {
        "id": "5XWMI0mMUk2t"
      }
    },
    {
      "cell_type": "markdown",
      "source": [
        "## **5. 변수 중요도**\n"
      ],
      "metadata": {
        "id": "aNF7f2D7OgOp"
      }
    },
    {
      "cell_type": "code",
      "source": [
        "import numpy as np\n",
        "import matplotlib.pyplot as plt\n",
        "\n",
        "def plot_feature_importances_health(model):\n",
        "    plt.rcParams[\"figure.figsize\"] = (9,6)\n",
        "    n_features = len(X_train.columns)  # 30개 \n",
        "    plt.barh(np.arange(n_features), model.feature_importances_, align='center') \n",
        "    plt.yticks(np.arange(n_features), X_train.columns)   # 30개의 눈금을 표시하고 눈금 레이블을 변수 이름으로 지정\n",
        "    plt.xlabel(\"feature importance\")\n",
        "    plt.ylabel(\"feature\")\n",
        "    plt.ylim(-1, n_features) #Y 축 범위 지정 (-1 ~ 30)"
      ],
      "metadata": {
        "id": "ytXEzNSgHpdy"
      },
      "execution_count": 48,
      "outputs": []
    },
    {
      "cell_type": "code",
      "source": [
        "gbrt = GradientBoostingClassifier(random_state=0, learning_rate = 0.1, max_depth = 1)\n",
        "gbrt.fit(X_train, y_train)\n",
        "plot_feature_importances_health(gbrt)"
      ],
      "metadata": {
        "colab": {
          "base_uri": "https://localhost:8080/",
          "height": 389
        },
        "id": "fh98i4IYHSTk",
        "outputId": "726b7a2d-b30f-4a97-9e8d-b2da08a5cfbf"
      },
      "execution_count": 52,
      "outputs": [
        {
          "output_type": "display_data",
          "data": {
            "text/plain": [
              "<Figure size 648x432 with 1 Axes>"
            ],
            "image/png": "[encoded data removed]"
          },
          "metadata": {
            "needs_background": "light"
          }
        }
      ]
    },
    {
      "cell_type": "code",
      "source": [
        "columns = X_train.columns\n",
        "feature_importance = pd.DataFrame(gbrt.feature_importances_.reshape((1, -1)), columns=columns, index=['feature_importance'])\n",
        "feature_importance "
      ],
      "metadata": {
        "colab": {
          "base_uri": "https://localhost:8080/",
          "height": 81
        },
        "id": "ynE5mtpDNbLl",
        "outputId": "8db5c27a-8d97-47b2-d783-8ce51fb82b11"
      },
      "execution_count": 54,
      "outputs": [
        {
          "output_type": "execute_result",
          "data": {
            "text/plain": [
              "                        흡연상태  음주여부  연령대코드(5세단위)      성별코드\n",
              "feature_importance  0.000497   0.0     0.805872  0.193632"
            ],
            "text/html": [
              "\n",
              "  <div id=\"df-1ca99710-cf3f-4bad-86bc-ccde5ee9334e\">\n",
              "    <div class=\"colab-df-container\">\n",
              "      <div>\n",
              "<style scoped>\n",
              "    .dataframe tbody tr th:only-of-type {\n",
              "        vertical-align: middle;\n",
              "    }\n",
              "\n",
              "    .dataframe tbody tr th {\n",
              "        vertical-align: top;\n",
              "    }\n",
              "\n",
              "    .dataframe thead th {\n",
              "        text-align: right;\n",
              "    }\n",
              "</style>\n",
              "<table border=\"1\" class=\"dataframe\">\n",
              "  <thead>\n",
              "    <tr style=\"text-align: right;\">\n",
              "      <th></th>\n",
              "      <th>흡연상태</th>\n",
              "      <th>음주여부</th>\n",
              "      <th>연령대코드(5세단위)</th>\n",
              "      <th>성별코드</th>\n",
              "    </tr>\n",
              "  </thead>\n",
              "  <tbody>\n",
              "    <tr>\n",
              "      <th>feature_importance</th>\n",
              "      <td>0.000497</td>\n",
              "      <td>0.0</td>\n",
              "      <td>0.805872</td>\n",
              "      <td>0.193632</td>\n",
              "    </tr>\n",
              "  </tbody>\n",
              "</table>\n",
              "</div>\n",
              "      <button class=\"colab-df-convert\" onclick=\"convertToInteractive('df-1ca99710-cf3f-4bad-86bc-ccde5ee9334e')\"\n",
              "              title=\"Convert this dataframe to an interactive table.\"\n",
              "              style=\"display:none;\">\n",
              "        \n",
              "  <svg xmlns=\"http://www.w3.org/2000/svg\" height=\"24px\"viewBox=\"0 0 24 24\"\n",
              "       width=\"24px\">\n",
              "    <path d=\"M0 0h24v24H0V0z\" fill=\"none\"/>\n",
              "    <path d=\"M18.56 5.44l.94 2.06.94-2.06 2.06-.94-2.06-.94-.94-2.06-.94 2.06-2.06.94zm-11 1L8.5 8.5l.94-2.06 2.06-.94-2.06-.94L8.5 2.5l-.94 2.06-2.06.94zm10 10l.94 2.06.94-2.06 2.06-.94-2.06-.94-.94-2.06-.94 2.06-2.06.94z\"/><path d=\"M17.41 7.96l-1.37-1.37c-.4-.4-.92-.59-1.43-.59-.52 0-1.04.2-1.43.59L10.3 9.45l-7.72 7.72c-.78.78-.78 2.05 0 2.83L4 21.41c.39.39.9.59 1.41.59.51 0 1.02-.2 1.41-.59l7.78-7.78 2.81-2.81c.8-.78.8-2.07 0-2.86zM5.41 20L4 18.59l7.72-7.72 1.47 1.35L5.41 20z\"/>\n",
              "  </svg>\n",
              "      </button>\n",
              "      \n",
              "  <style>\n",
              "    .colab-df-container {\n",
              "      display:flex;\n",
              "      flex-wrap:wrap;\n",
              "      gap: 12px;\n",
              "    }\n",
              "\n",
              "    .colab-df-convert {\n",
              "      background-color: #E8F0FE;\n",
              "      border: none;\n",
              "      border-radius: 50%;\n",
              "      cursor: pointer;\n",
              "      display: none;\n",
              "      fill: #1967D2;\n",
              "      height: 32px;\n",
              "      padding: 0 0 0 0;\n",
              "      width: 32px;\n",
              "    }\n",
              "\n",
              "    .colab-df-convert:hover {\n",
              "      background-color: #E2EBFA;\n",
              "      box-shadow: 0px 1px 2px rgba(60, 64, 67, 0.3), 0px 1px 3px 1px rgba(60, 64, 67, 0.15);\n",
              "      fill: #174EA6;\n",
              "    }\n",
              "\n",
              "    [theme=dark] .colab-df-convert {\n",
              "      background-color: #3B4455;\n",
              "      fill: #D2E3FC;\n",
              "    }\n",
              "\n",
              "    [theme=dark] .colab-df-convert:hover {\n",
              "      background-color: #434B5C;\n",
              "      box-shadow: 0px 1px 3px 1px rgba(0, 0, 0, 0.15);\n",
              "      filter: drop-shadow(0px 1px 2px rgba(0, 0, 0, 0.3));\n",
              "      fill: #FFFFFF;\n",
              "    }\n",
              "  </style>\n",
              "\n",
              "      <script>\n",
              "        const buttonEl =\n",
              "          document.querySelector('#df-1ca99710-cf3f-4bad-86bc-ccde5ee9334e button.colab-df-convert');\n",
              "        buttonEl.style.display =\n",
              "          google.colab.kernel.accessAllowed ? 'block' : 'none';\n",
              "\n",
              "        async function convertToInteractive(key) {\n",
              "          const element = document.querySelector('#df-1ca99710-cf3f-4bad-86bc-ccde5ee9334e');\n",
              "          const dataTable =\n",
              "            await google.colab.kernel.invokeFunction('convertToInteractive',\n",
              "                                                     [key], {});\n",
              "          if (!dataTable) return;\n",
              "\n",
              "          const docLinkHtml = 'Like what you see? Visit the ' +\n",
              "            '<a target=\"_blank\" href=https://colab.research.google.com/notebooks/data_table.ipynb>data table notebook</a>'\n",
              "            + ' to learn more about interactive tables.';\n",
              "          element.innerHTML = '';\n",
              "          dataTable['output_type'] = 'display_data';\n",
              "          await google.colab.output.renderOutput(dataTable, element);\n",
              "          const docLink = document.createElement('div');\n",
              "          docLink.innerHTML = docLinkHtml;\n",
              "          element.appendChild(docLink);\n",
              "        }\n",
              "      </script>\n",
              "    </div>\n",
              "  </div>\n",
              "  "
            ]
          },
          "metadata": {},
          "execution_count": 54
        }
      ]
    },
    {
      "cell_type": "code",
      "source": [
        "df_copy = df_health[df_health['고혈압여부']==1]\n",
        "part = pd.DataFrame(df_copy.groupby(\"연령대코드(5세단위)\")['고혈압여부'].count())\n",
        "all = pd.DataFrame(df_health.groupby(\"연령대코드(5세단위)\")['시도코드'].count())\n",
        "df_copy = pd.concat([part, all], axis = 1)\n",
        "df_copy.columns = ['part' , 'all']\n",
        "df_copy['%'] = df_copy['part'] / df_copy['all']\n",
        "df_copy"
      ],
      "metadata": {
        "colab": {
          "base_uri": "https://localhost:8080/",
          "height": 394
        },
        "id": "Taj1zy5tXXMT",
        "outputId": "06497952-90fd-4e0f-90e3-525332bf1464"
      },
      "execution_count": 55,
      "outputs": [
        {
          "output_type": "execute_result",
          "data": {
            "text/plain": [
              "             part   all         %\n",
              "연령대코드(5세단위)                      \n",
              "9             257  1547  0.166128\n",
              "10            243  1369  0.177502\n",
              "11            376  1798  0.209121\n",
              "12            333  1498  0.222296\n",
              "13            425  1534  0.277053\n",
              "14            292   865  0.337572\n",
              "15            256   698  0.366762\n",
              "16            142   377  0.376658\n",
              "17            100   259  0.386100\n",
              "18             16    55  0.290909"
            ],
            "text/html": [
              "\n",
              "  <div id=\"df-905e784c-9e1e-4758-945f-945ab028c221\">\n",
              "    <div class=\"colab-df-container\">\n",
              "      <div>\n",
              "<style scoped>\n",
              "    .dataframe tbody tr th:only-of-type {\n",
              "        vertical-align: middle;\n",
              "    }\n",
              "\n",
              "    .dataframe tbody tr th {\n",
              "        vertical-align: top;\n",
              "    }\n",
              "\n",
              "    .dataframe thead th {\n",
              "        text-align: right;\n",
              "    }\n",
              "</style>\n",
              "<table border=\"1\" class=\"dataframe\">\n",
              "  <thead>\n",
              "    <tr style=\"text-align: right;\">\n",
              "      <th></th>\n",
              "      <th>part</th>\n",
              "      <th>all</th>\n",
              "      <th>%</th>\n",
              "    </tr>\n",
              "    <tr>\n",
              "      <th>연령대코드(5세단위)</th>\n",
              "      <th></th>\n",
              "      <th></th>\n",
              "      <th></th>\n",
              "    </tr>\n",
              "  </thead>\n",
              "  <tbody>\n",
              "    <tr>\n",
              "      <th>9</th>\n",
              "      <td>257</td>\n",
              "      <td>1547</td>\n",
              "      <td>0.166128</td>\n",
              "    </tr>\n",
              "    <tr>\n",
              "      <th>10</th>\n",
              "      <td>243</td>\n",
              "      <td>1369</td>\n",
              "      <td>0.177502</td>\n",
              "    </tr>\n",
              "    <tr>\n",
              "      <th>11</th>\n",
              "      <td>376</td>\n",
              "      <td>1798</td>\n",
              "      <td>0.209121</td>\n",
              "    </tr>\n",
              "    <tr>\n",
              "      <th>12</th>\n",
              "      <td>333</td>\n",
              "      <td>1498</td>\n",
              "      <td>0.222296</td>\n",
              "    </tr>\n",
              "    <tr>\n",
              "      <th>13</th>\n",
              "      <td>425</td>\n",
              "      <td>1534</td>\n",
              "      <td>0.277053</td>\n",
              "    </tr>\n",
              "    <tr>\n",
              "      <th>14</th>\n",
              "      <td>292</td>\n",
              "      <td>865</td>\n",
              "      <td>0.337572</td>\n",
              "    </tr>\n",
              "    <tr>\n",
              "      <th>15</th>\n",
              "      <td>256</td>\n",
              "      <td>698</td>\n",
              "      <td>0.366762</td>\n",
              "    </tr>\n",
              "    <tr>\n",
              "      <th>16</th>\n",
              "      <td>142</td>\n",
              "      <td>377</td>\n",
              "      <td>0.376658</td>\n",
              "    </tr>\n",
              "    <tr>\n",
              "      <th>17</th>\n",
              "      <td>100</td>\n",
              "      <td>259</td>\n",
              "      <td>0.386100</td>\n",
              "    </tr>\n",
              "    <tr>\n",
              "      <th>18</th>\n",
              "      <td>16</td>\n",
              "      <td>55</td>\n",
              "      <td>0.290909</td>\n",
              "    </tr>\n",
              "  </tbody>\n",
              "</table>\n",
              "</div>\n",
              "      <button class=\"colab-df-convert\" onclick=\"convertToInteractive('df-905e784c-9e1e-4758-945f-945ab028c221')\"\n",
              "              title=\"Convert this dataframe to an interactive table.\"\n",
              "              style=\"display:none;\">\n",
              "        \n",
              "  <svg xmlns=\"http://www.w3.org/2000/svg\" height=\"24px\"viewBox=\"0 0 24 24\"\n",
              "       width=\"24px\">\n",
              "    <path d=\"M0 0h24v24H0V0z\" fill=\"none\"/>\n",
              "    <path d=\"M18.56 5.44l.94 2.06.94-2.06 2.06-.94-2.06-.94-.94-2.06-.94 2.06-2.06.94zm-11 1L8.5 8.5l.94-2.06 2.06-.94-2.06-.94L8.5 2.5l-.94 2.06-2.06.94zm10 10l.94 2.06.94-2.06 2.06-.94-2.06-.94-.94-2.06-.94 2.06-2.06.94z\"/><path d=\"M17.41 7.96l-1.37-1.37c-.4-.4-.92-.59-1.43-.59-.52 0-1.04.2-1.43.59L10.3 9.45l-7.72 7.72c-.78.78-.78 2.05 0 2.83L4 21.41c.39.39.9.59 1.41.59.51 0 1.02-.2 1.41-.59l7.78-7.78 2.81-2.81c.8-.78.8-2.07 0-2.86zM5.41 20L4 18.59l7.72-7.72 1.47 1.35L5.41 20z\"/>\n",
              "  </svg>\n",
              "      </button>\n",
              "      \n",
              "  <style>\n",
              "    .colab-df-container {\n",
              "      display:flex;\n",
              "      flex-wrap:wrap;\n",
              "      gap: 12px;\n",
              "    }\n",
              "\n",
              "    .colab-df-convert {\n",
              "      background-color: #E8F0FE;\n",
              "      border: none;\n",
              "      border-radius: 50%;\n",
              "      cursor: pointer;\n",
              "      display: none;\n",
              "      fill: #1967D2;\n",
              "      height: 32px;\n",
              "      padding: 0 0 0 0;\n",
              "      width: 32px;\n",
              "    }\n",
              "\n",
              "    .colab-df-convert:hover {\n",
              "      background-color: #E2EBFA;\n",
              "      box-shadow: 0px 1px 2px rgba(60, 64, 67, 0.3), 0px 1px 3px 1px rgba(60, 64, 67, 0.15);\n",
              "      fill: #174EA6;\n",
              "    }\n",
              "\n",
              "    [theme=dark] .colab-df-convert {\n",
              "      background-color: #3B4455;\n",
              "      fill: #D2E3FC;\n",
              "    }\n",
              "\n",
              "    [theme=dark] .colab-df-convert:hover {\n",
              "      background-color: #434B5C;\n",
              "      box-shadow: 0px 1px 3px 1px rgba(0, 0, 0, 0.15);\n",
              "      filter: drop-shadow(0px 1px 2px rgba(0, 0, 0, 0.3));\n",
              "      fill: #FFFFFF;\n",
              "    }\n",
              "  </style>\n",
              "\n",
              "      <script>\n",
              "        const buttonEl =\n",
              "          document.querySelector('#df-905e784c-9e1e-4758-945f-945ab028c221 button.colab-df-convert');\n",
              "        buttonEl.style.display =\n",
              "          google.colab.kernel.accessAllowed ? 'block' : 'none';\n",
              "\n",
              "        async function convertToInteractive(key) {\n",
              "          const element = document.querySelector('#df-905e784c-9e1e-4758-945f-945ab028c221');\n",
              "          const dataTable =\n",
              "            await google.colab.kernel.invokeFunction('convertToInteractive',\n",
              "                                                     [key], {});\n",
              "          if (!dataTable) return;\n",
              "\n",
              "          const docLinkHtml = 'Like what you see? Visit the ' +\n",
              "            '<a target=\"_blank\" href=https://colab.research.google.com/notebooks/data_table.ipynb>data table notebook</a>'\n",
              "            + ' to learn more about interactive tables.';\n",
              "          element.innerHTML = '';\n",
              "          dataTable['output_type'] = 'display_data';\n",
              "          await google.colab.output.renderOutput(dataTable, element);\n",
              "          const docLink = document.createElement('div');\n",
              "          docLink.innerHTML = docLinkHtml;\n",
              "          element.appendChild(docLink);\n",
              "        }\n",
              "      </script>\n",
              "    </div>\n",
              "  </div>\n",
              "  "
            ]
          },
          "metadata": {},
          "execution_count": 55
        }
      ]
    },
    {
      "cell_type": "markdown",
      "source": [
        "## **6. 결론**"
      ],
      "metadata": {
        "id": "dmVfB0zoWE1Y"
      }
    },
    {
      "cell_type": "markdown",
      "source": [
        "* 변수의 중요도를 파악해보았을 때 약 80%정도를 '연령대코드(5세단위)'가 차지하며 해당 변수의 중요도가 상당히 크다는 것을 파악할 수 있다.\n",
        "* 실제로 ~39세까지는 고혈압군에 해당하는 사람이 존재하지 않았으며 40세 이상의 연령대부터가 고혈압군에 해당함을 확인할 수 있다.\n",
        "* 또한, 전체와 대비해 고혈압 환자의 비율을 살펴보았을 때, 나이대가 올라갈 수록 고혈압 환자의 비율이 대체적으로 상승하고 있음을 확인할 수 있다."
      ],
      "metadata": {
        "id": "g4GA0yzTOouY"
      }
    }
  ]
}